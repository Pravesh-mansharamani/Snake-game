{
 "cells": [
  {
   "cell_type": "code",
   "execution_count": 1,
   "id": "4d985dc5",
   "metadata": {},
   "outputs": [
    {
     "name": "stdout",
     "output_type": "stream",
     "text": [
      "pygame 2.1.2 (SDL 2.0.18, Python 3.9.13)\n",
      "Hello from the pygame community. https://www.pygame.org/contribute.html\n"
     ]
    }
   ],
   "source": [
    "import pygame\n",
    "import time \n",
    "import random "
   ]
  },
  {
   "cell_type": "code",
   "execution_count": 2,
   "id": "9241bc29",
   "metadata": {},
   "outputs": [
    {
     "data": {
      "text/plain": [
       "(5, 0)"
      ]
     },
     "execution_count": 2,
     "metadata": {},
     "output_type": "execute_result"
    }
   ],
   "source": [
    "# Init pygame\n",
    "pygame.init()\n"
   ]
  },
  {
   "cell_type": "code",
   "execution_count": 3,
   "id": "c53afe01",
   "metadata": {},
   "outputs": [],
   "source": [
    "# Define colours\n",
    "red = (255, 0, 0)\n",
    "black = (0, 0, 0)\n",
    "white = (255, 255, 255)\n",
    "orange = (255, 165, 0)\n"
   ]
  },
  {
   "cell_type": "code",
   "execution_count": 4,
   "id": "825d766a",
   "metadata": {},
   "outputs": [],
   "source": [
    "width = 700\n",
    "height = 500\n"
   ]
  },
  {
   "cell_type": "code",
   "execution_count": 5,
   "id": "dd0ecc5d",
   "metadata": {},
   "outputs": [],
   "source": [
    "game_display = pygame.display.set_mode((width, height))\n",
    "pygame.display.set_caption(\"Python Snake Game\")\n"
   ]
  },
  {
   "cell_type": "code",
   "execution_count": 6,
   "id": "1df4f6a6",
   "metadata": {},
   "outputs": [],
   "source": [
    "clock = pygame.time.Clock()\n",
    "\n",
    "snake_size = 20\n",
    "snake_speed = 15\n",
    "\n",
    "message_font = pygame.font.SysFont('ubuntu', 32)\n",
    "score_font = pygame.font.SysFont('ubuntu', 24)\n"
   ]
  },
  {
   "cell_type": "code",
   "execution_count": 7,
   "id": "65d05094",
   "metadata": {},
   "outputs": [],
   "source": [
    "def print_score(score):\n",
    "    text = score_font.render(\"Score:\" + str(score), True, orange)\n",
    "    game_display.blit(text, [0,0])\n",
    "    \n",
    "def draw_snake(snake_size, snake_pixels):\n",
    "    for pixel in snake_pixels:\n",
    "        pygame.draw.rect(game_display, white, [pixel[0], pixel[1], snake_size, snake_size])"
   ]
  },
  {
   "cell_type": "code",
   "execution_count": 8,
   "id": "98f4edc9",
   "metadata": {},
   "outputs": [],
   "source": [
    "def run_game():\n",
    "    game_over = False\n",
    "    game_close = False \n",
    "    \n",
    "    x = width/2\n",
    "    y = height/2 \n",
    "    \n",
    "    x_speed = 0\n",
    "    y_speed = 0\n",
    "    \n",
    "    snake_pixels = []\n",
    "    snake_length = 1 \n",
    "    \n",
    "    target_x = round(random.randrange(0, width-snake_size)/ 10.0)*10.0\n",
    "    target_y = round(random.randrange(0, height-snake_size)/10.0)*10.0\n",
    "    \n",
    "    \n",
    "    while not game_over:\n",
    "        \n",
    "        while game_close:\n",
    "            game_display.fill(black)\n",
    "            game_over_message = message_font.render(\"Game Over!\", True, red)\n",
    "            game_display.blit(game_over_message, [width / 3, height / 3])\n",
    "            print_score(snake_length - 1)\n",
    "            pygame.display.update()\n",
    "            \n",
    "            for event in pygame.event.get():\n",
    "                if event.type == pygame.KEYDOWN:\n",
    "                    if event.key == pygame.K_1:\n",
    "                        game_over = True\n",
    "                        game_close = False\n",
    "                    \n",
    "                    if event.key == pygame.K_2:\n",
    "                        run_game()\n",
    "                        \n",
    "                if event.type == pygame.QUIT:\n",
    "                    game_over = True\n",
    "                    game_close = False\n",
    "                        \n",
    "                         \n",
    "        \n",
    "        for event in pygame.event.get():\n",
    "            if event.type == pygame.QUIT:\n",
    "                game_over = True\n",
    "            if event.type == pygame.KEYDOWN:\n",
    "                if event.key == pygame.K_LEFT:\n",
    "                    x_speed = -snake_size\n",
    "                    y_speed = 0\n",
    "                if event.key == pygame.K_RIGHT:\n",
    "                    x_speed = snake_size\n",
    "                    y_speed = 0\n",
    "                if event.key == pygame.K_UP:\n",
    "                    y_speed = -snake_size\n",
    "                    x_speed = 0\n",
    "                if event.key == pygame.K_DOWN:\n",
    "                    y_speed = snake_size\n",
    "                    x_speed = 0\n",
    "                    \n",
    "        if x >= width or x<0 or y<0 or y >= height:\n",
    "            game_close = True\n",
    "        \n",
    "        x += x_speed\n",
    "        y += y_speed\n",
    "        \n",
    "        game_display.fill(black)\n",
    "        pygame.draw.rect(game_display, orange, [target_x, target_y, snake_size, snake_size])\n",
    "        \n",
    "        snake_pixels.append([x, y])\n",
    "        \n",
    "        if len(snake_pixels) > snake_length:\n",
    "            del snake_pixels[0]\n",
    "            \n",
    "        for pixel in snake_pixels[:-1]:\n",
    "            if pixel == [x, y]:\n",
    "                game_close = True\n",
    "                \n",
    "        draw_snake(snake_size, snake_pixels)\n",
    "        print_score(snake_length - 1)\n",
    "        \n",
    "        pygame.display.update()\n",
    "        \n",
    "        if x == target_x and y == target_y:\n",
    "            target_x = round(random.randrange(0, width-snake_size)/10.0) * 10.0\n",
    "            target_y = round(random.randrange(0, height-snake_size)/10.0) * 10.0\n",
    "            snake_length += 1\n",
    "            \n",
    "        clock.tick(snake_speed)\n",
    "        \n",
    "    pygame.quit() \n",
    "    quit()\n",
    "    \n",
    "    \n",
    "run_game()\n",
    "\n",
    "    \n",
    "    "
   ]
  },
  {
   "cell_type": "code",
   "execution_count": null,
   "id": "6345a4d6",
   "metadata": {},
   "outputs": [],
   "source": []
  },
  {
   "cell_type": "code",
   "execution_count": null,
   "id": "26433b7c",
   "metadata": {},
   "outputs": [],
   "source": []
  }
 ],
 "metadata": {
  "kernelspec": {
   "display_name": "Python 3 (ipykernel)",
   "language": "python",
   "name": "python3"
  },
  "language_info": {
   "codemirror_mode": {
    "name": "ipython",
    "version": 3
   },
   "file_extension": ".py",
   "mimetype": "text/x-python",
   "name": "python",
   "nbconvert_exporter": "python",
   "pygments_lexer": "ipython3",
   "version": "3.9.13"
  }
 },
 "nbformat": 4,
 "nbformat_minor": 5
}
